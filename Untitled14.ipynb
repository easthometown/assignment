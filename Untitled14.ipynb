{
  "nbformat": 4,
  "nbformat_minor": 0,
  "metadata": {
    "colab": {
      "private_outputs": true,
      "provenance": [],
      "gpuType": "T4",
      "include_colab_link": true
    },
    "kernelspec": {
      "name": "python3",
      "display_name": "Python 3"
    },
    "language_info": {
      "name": "python"
    },
    "accelerator": "GPU",
    "gpuClass": "standard"
  },
  "cells": [
    {
      "cell_type": "markdown",
      "metadata": {
        "id": "view-in-github",
        "colab_type": "text"
      },
      "source": [
        "<a href=\"https://colab.research.google.com/github/easthometown/assignment/blob/main/Untitled14.ipynb\" target=\"_parent\"><img src=\"https://colab.research.google.com/assets/colab-badge.svg\" alt=\"Open In Colab\"/></a>"
      ]
    },
    {
      "cell_type": "markdown",
      "source": [
        "## What are GANs?\n",
        "Generative Adversarial Networks (GANs) are one of the most interesting ideas in computer science today. Two models are trained simultaneously by an adversarial process. A generator (\"the artist\") learns to create images that look real, while a discriminator (\"the art critic\") learns to tell real images apart from fakes."
      ],
      "metadata": {
        "id": "82affpQmugt4"
      }
    },
    {
      "cell_type": "markdown",
      "source": [
        "Mount google drive"
      ],
      "metadata": {
        "id": "A4JruUUUukzw"
      }
    },
    {
      "cell_type": "code",
      "execution_count": null,
      "metadata": {
        "id": "zIEBANkQufjL"
      },
      "outputs": [],
      "source": [
        "from google.colab import drive\n",
        "drive.mount('/content/drive')"
      ]
    },
    {
      "cell_type": "code",
      "source": [
        "import numpy as np, pandas as pd, os\n",
        "import xml.etree.ElementTree as ET \n",
        "import matplotlib.pyplot as plt, zipfile \n",
        "from PIL import Image \n",
        "\n",
        "ROOT='./'\n",
        "if not os.path.exists('all-dogs'):\n",
        "        os.makedirs('all-dogs')\n",
        "        !unzip -q '/content/drive/MyDrive/MSDS/all-dogs.zip' -d all-dogs\n",
        "\n",
        "if not os.path.exists('Annotation'):\n",
        "        os.makedirs('Annotation')\n",
        "        !unzip -q '/content/drive/MyDrive/MSDS/Annotation.zip' -d Annotation\n",
        "        \n",
        "IMAGES = os.listdir(ROOT + 'all-dogs/all-dogs/')\n",
        "breeds = os.listdir(ROOT + 'Annotation/Annotation/') \n",
        "idxIn = 0; namesIn = []\n",
        "imagesIn = np.zeros((25000,64,64,3))"
      ],
      "metadata": {
        "id": "y2a72nrqvBeN"
      },
      "execution_count": null,
      "outputs": []
    },
    {
      "cell_type": "code",
      "source": [
        "x = np.random.choice(np.arange(20000),10000)\n",
        "for k in range(len(x)):\n",
        "        img = Image.open(ROOT + 'all-dogs/all-dogs/' + IMAGES[x[k]])\n",
        "        w = img.size[0]; h = img.size[1];\n",
        "        if (k%2==0)|(k%3==0):\n",
        "            w2 = 100; h2 = int(h/(w/100))\n",
        "            a = 18; b = 0          \n",
        "        else:\n",
        "            a=0; b=0\n",
        "            if w<h:\n",
        "                w2 = 64; h2 = int((64/w)*h)\n",
        "                b = (h2-64)//2\n",
        "            else:\n",
        "                h2 = 64; w2 = int((64/h)*w)\n",
        "                a = (w2-64)//2\n",
        "        img = img.resize((w2,h2), Image.ANTIALIAS)\n",
        "        img = img.crop((0+a, 0+b, 64+a, 64+b))  \n",
        "        imagesIn[idxIn,:,:,:] = np.asarray(img)\n",
        "        namesIn.append(IMAGES[x[k]])\n",
        "        idxIn += 1"
      ],
      "metadata": {
        "id": "4T1lo8BqvdAE"
      },
      "execution_count": null,
      "outputs": []
    },
    {
      "cell_type": "code",
      "source": [
        "x = np.random.randint(0,idxIn,25)\n",
        "i=[]\n",
        "for k in range(5):\n",
        "    plt.figure(figsize=(8,8))\n",
        "    for j in range(5):\n",
        "        plt.subplot(1,5,j+1)\n",
        "        img = Image.fromarray( imagesIn[x[k*5+j],:,:,:].astype('uint8') )\n",
        "        plt.axis('off')\n",
        "        plt.title(namesIn[x[k*5+j]],fontsize=6)\n",
        "        plt.imshow(img)\n",
        "        \n",
        "    plt.show()\n"
      ],
      "metadata": {
        "id": "xHulreXmwDwQ"
      },
      "execution_count": null,
      "outputs": []
    },
    {
      "cell_type": "code",
      "source": [
        "from keras.models import Model\n",
        "from keras.layers import Input, Dense, Conv2D, MaxPooling2D, UpSampling2D, Reshape, BatchNormalization\n",
        "from keras.optimizers import Adam\n",
        "from keras.callbacks import ReduceLROnPlateau\n",
        "\n",
        "direct_input = Input((10000,))\n",
        "x = Dense(2048, activation='elu')(direct_input)\n",
        "x = Reshape((8, 8, 32))(x)\n",
        "x = Conv2D(128, (3, 3), activation='elu', padding='same')(x)\n",
        "x = UpSampling2D((2, 2))(x)\n",
        "x = Conv2D(64, (3, 3), activation='elu', padding='same')(x)\n",
        "x = UpSampling2D((2, 2))(x)\n",
        "x = Conv2D(32, (3, 3), activation='elu', padding='same')(x)\n",
        "x = UpSampling2D((2, 2))(x)\n",
        "decoded = Conv2D(3, (3, 3), activation='sigmoid', padding='same')(x)\n",
        "\n",
        "decoder = Model(direct_input, decoded)\n",
        "decoder.compile(optimizer=Adam(lr=0.005), loss='binary_crossentropy')\n",
        "\n",
        "decoder.summary()\n",
        "idx = np.random.randint(0,idxIn,10000)\n",
        "train_y = imagesIn[idx,:,:,:]/255.\n",
        "train_X = np.zeros((10000,10000))\n",
        "for i in range(10000): train_X[i,i] = 1\n",
        "# Define a learning rate reduction callback\n",
        "reduce_lr = ReduceLROnPlateau(monitor='val_loss', factor=0.1, patience=5, min_lr=0.0001)\n",
        "\n",
        "# Training loop with learning rate scheduling\n",
        "lr = 0.005\n",
        "for k in range(6):\n",
        "    print(f'{k+1}')\n",
        "    decoder.fit(train_X, train_y, epochs=14, batch_size=128, callbacks=[reduce_lr])\n",
        "    if k % 5 == 4:\n",
        "        print('Epoch', (k + 1) * 10, '/500 - loss =', decoder.history.history['loss'][-1])\n"
      ],
      "metadata": {
        "id": "scnTRz-IwNvM"
      },
      "execution_count": null,
      "outputs": []
    },
    {
      "cell_type": "code",
      "source": [
        "print('Generate Random Dogs')  \n",
        "import PIL\n",
        "! mkdir images  \n",
        "for k in range(5):\n",
        "    plt.figure(figsize=(8,8))\n",
        "    for j in range(5):\n",
        "        xx = np.zeros((10000))\n",
        "        xx[np.random.randint(10000)] = 1\n",
        "        xx[np.random.randint(10000)] = 0.75\n",
        "        xx = xx/(np.sqrt(xx.dot(xx.T)))\n",
        "        plt.subplot(1,5,j+1)\n",
        "        img = decoder.predict(xx.reshape((-1,10000)))\n",
        "        img = Image.fromarray( (255*img).astype('uint8').reshape((64,64,3)))\n",
        "        plt.axis('off')\n",
        "        plt.imshow(img)\n",
        "        img.save(\"images/\"+str(k)+\".jpg\")\n",
        "    plt.show()\n"
      ],
      "metadata": {
        "id": "3-fUVhM0xGAP"
      },
      "execution_count": null,
      "outputs": []
    },
    {
      "cell_type": "code",
      "source": [
        "!mkdir img\n",
        "for k in range(10000):\n",
        "    xx = np.zeros((10000))\n",
        "    xx[np.random.randint(10000)] = 0.99\n",
        "    xx[np.random.randint(10000)] = 0.01\n",
        "    img = decoder.predict(xx.reshape((-1,10000)))\n",
        "    img = Image.fromarray( (255*img).astype('uint8').reshape((64,64,3)))\n",
        "    \n",
        "    img.save('img/'+str(k)+'.png')\n"
      ],
      "metadata": {
        "id": "GjvYNT1bxQGd"
      },
      "execution_count": null,
      "outputs": []
    },
    {
      "cell_type": "code",
      "source": [
        "import shutil\n",
        "shutil.make_archive(\"./images\",'zip',\"img\")"
      ],
      "metadata": {
        "id": "U-hIjLMIxjLo"
      },
      "execution_count": null,
      "outputs": []
    },
    {
      "cell_type": "code",
      "source": [
        "!rm -r img"
      ],
      "metadata": {
        "id": "MYaFl2VMVPaq"
      },
      "execution_count": null,
      "outputs": []
    },
    {
      "cell_type": "code",
      "source": [],
      "metadata": {
        "id": "_Xb_5WahtIgR"
      },
      "execution_count": null,
      "outputs": []
    }
  ]
}